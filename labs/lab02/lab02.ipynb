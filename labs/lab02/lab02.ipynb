{
  "cells": [
    {
      "cell_type": "markdown",
      "metadata": {},
      "source": [
        "# BEE 4750 Lab 2: Uncertainty and Monte Carlo"
      ],
      "id": "c2f40f88-df36-4bdf-8a05-b95f8d5a5bbb"
    },
    {
      "cell_type": "markdown",
      "metadata": {},
      "source": [
        "**Name**:\n",
        "\n",
        "**ID**:"
      ],
      "id": "975a0513-864e-4ffe-a806-8b8b03b65dd8"
    },
    {
      "cell_type": "markdown",
      "metadata": {},
      "source": [
        "> **Due Date**\n",
        ">\n",
        "> Wednesday, 9/25/24, 9:00pm\n",
        "\n",
        "## Setup\n",
        "\n",
        "The following code should go at the top of most Julia scripts; it will\n",
        "load the local package environment and install any needed packages. You\n",
        "will see this often and shouldn’t need to touch it."
      ],
      "id": "3a19b252-11a3-4cc1-937f-eae5ea11ccd0"
    },
    {
      "cell_type": "code",
      "execution_count": 1,
      "metadata": {},
      "outputs": [],
      "source": [
        "import Pkg\n",
        "Pkg.activate(\".\")\n",
        "Pkg.instantiate()"
      ],
      "id": "2"
    },
    {
      "cell_type": "code",
      "execution_count": 1,
      "metadata": {},
      "outputs": [],
      "source": [
        "using Random # random number generation\n",
        "using Distributions # probability distributions and interface\n",
        "using Statistics # basic statistical functions, including mean\n",
        "using Plots # plotting"
      ],
      "id": "4"
    },
    {
      "cell_type": "markdown",
      "metadata": {},
      "source": [
        "## Overview\n",
        "\n",
        "In this lab, we will use Monte Carlo analysis to analyze a version of\n",
        "the culmination of every episode of the long-running game show [The\n",
        "Price Is Right](https://en.wikipedia.org/wiki/The_Price_Is_Right): the\n",
        "[Showcase](https://en.wikipedia.org/wiki/The_Price_Is_Right#Showcase).\n",
        "\n",
        "Monte Carlo methods involve the simulation of random numbers from\n",
        "probability distributions. In an environmental context, we often\n",
        "propagate these random numbers through some more complicated model and\n",
        "then compute a resulting statistic which is relevant for assessing\n",
        "performance or risk, such as an average outcome or a particular\n",
        "quantile.\n",
        "\n",
        "You should always start any computing with random numbers by setting a\n",
        "“seed,” which controls the sequence of numbers which are generated\n",
        "(since these are not *really* random, just “pseudorandom”). In Julia, we\n",
        "do this with the `Random.seed!()` function."
      ],
      "id": "621e4f69-d93e-46ec-9c90-06dff263d07e"
    },
    {
      "cell_type": "code",
      "execution_count": 1,
      "metadata": {},
      "outputs": [
        {
          "output_type": "display_data",
          "metadata": {},
          "data": {
            "text/plain": [
              "TaskLocalRNG()"
            ]
          }
        }
      ],
      "source": [
        "Random.seed!(1)"
      ],
      "id": "6"
    },
    {
      "cell_type": "markdown",
      "metadata": {},
      "source": [
        "It doesn’t matter what seed you set, though different seeds might result\n",
        "in slightly different values. But setting a seed means every time your\n",
        "notebook is run, the answer will be the same.\n",
        "\n",
        "> **Seeds and Reproducing Solutions**\n",
        ">\n",
        "> If you don’t re-run your code in the same order or if you re-run the\n",
        "> same cell repeatedly, you will not get the same solution. If you’re\n",
        "> working on a specific problem, you might want to re-use\n",
        "> `Random.seed()` near any block of code you want to re-evaluate\n",
        "> repeatedly.\n",
        "\n",
        "### Probability Distributions and Julia\n",
        "\n",
        "Julia provides a common interface for probability distributions with the\n",
        "[`Distributions.jl`\n",
        "package](https://juliastats.org/Distributions.jl/stable/). The basic\n",
        "workflow for sampling from a distribution is:\n",
        "\n",
        "1.  Set up the distribution. The specific syntax depends on the\n",
        "    distribution and what parameters are required, but the general call\n",
        "    is the similar. For a normal distribution or a uniform distribution,\n",
        "    the syntax is\n",
        "\n",
        "    ``` julia\n",
        "    # you don't have to name this \"normal_distribution\"\n",
        "    # μ is the mean and σ is the standard deviation\n",
        "    normal_distribution = Normal(μ, σ)\n",
        "    # a is the upper bound and b is the lower bound; these can be set to +Inf or -Inf for an unbounded distribution in one or both directions.\n",
        "    uniform_distribution = Uniform(a, b)\n",
        "    ```\n",
        "\n",
        "    There are lots of both\n",
        "    [univariate](https://juliastats.org/Distributions.jl/stable/univariate/#Index)\n",
        "    and\n",
        "    [multivariate](https://juliastats.org/Distributions.jl/stable/multivariate/)\n",
        "    distributions, as well as the ability to create your own, but we\n",
        "    won’t do anything too exotic here.\n",
        "\n",
        "2.  Draw samples. This uses the `rand()` command (which, when used\n",
        "    without a distribution, just samples uniformly from the interval\n",
        "    $[0, 1]$.) For example, to sample from our normal distribution\n",
        "    above:\n",
        "\n",
        "    ``` julia\n",
        "    # draw n samples\n",
        "    rand(normal_distribution, n)\n",
        "    ```\n",
        "\n",
        "Putting this together, let’s say that we wanted to simulate 100\n",
        "six-sided dice rolls. We could use a [Discrete Uniform\n",
        "distribution](https://juliastats.org/Distributions.jl/stable/univariate/#Distributions.DiscreteUniform)."
      ],
      "id": "4e7d77e8-a6a5-42ba-861d-99eedb8fd043"
    },
    {
      "cell_type": "code",
      "execution_count": 1,
      "metadata": {},
      "outputs": [
        {
          "output_type": "display_data",
          "metadata": {},
          "data": {
            "text/plain": [
              "100-element Vector{Int64}:\n",
              " 3\n",
              " 6\n",
              " 4\n",
              " 6\n",
              " 1\n",
              " 1\n",
              " 2\n",
              " 3\n",
              " 5\n",
              " 5\n",
              " ⋮\n",
              " 3\n",
              " 3\n",
              " 6\n",
              " 5\n",
              " 3\n",
              " 4\n",
              " 6\n",
              " 3\n",
              " 1"
            ]
          }
        }
      ],
      "source": [
        "dice_dist = DiscreteUniform(1, 6) # can generate any integer between 1 and 6\n",
        "dice_rolls = rand(dice_dist, 100) # simulate rolls"
      ],
      "id": "8"
    },
    {
      "cell_type": "markdown",
      "metadata": {},
      "source": [
        "And then we can plot a histogram of these rolls:"
      ],
      "id": "eb710521-c97b-4e55-8754-37d49ec5c13f"
    },
    {
      "cell_type": "code",
      "execution_count": 1,
      "metadata": {},
      "outputs": [
        {
          "output_type": "display_data",
          "metadata": {},
          "data": {
            "text/html": [
              "<?xml version=\"1.0\" encoding=\"utf-8\"?>\n",
              "<svg xmlns=\"http://www.w3.org/2000/svg\" xmlns:xlink=\"http://www.w3.org/1999/xlink\" width=\"672\" height=\"480\" viewBox=\"0 0 2688 1920\">\n",
              "<defs>\n",
              "  <clipPath id=\"clip660\">\n",
              "    <rect x=\"0\" y=\"0\" width=\"2688\" height=\"1920\"/>\n",
              "  </clipPath>\n",
              "</defs>\n",
              "<path clip-path=\"url(#clip660)\" d=\"M0 1920 L2688 1920 L2688 0 L0 0  Z\" fill=\"#ffffff\" fill-rule=\"evenodd\" fill-opacity=\"1\"/>\n",
              "<defs>\n",
              "  <clipPath id=\"clip661\">\n",
              "    <rect x=\"537\" y=\"0\" width=\"1883\" height=\"1883\"/>\n",
              "  </clipPath>\n",
              "</defs>\n",
              "<path clip-path=\"url(#clip660)\" d=\"M209.011 1734.12 L2640.76 1734.12 L2640.76 47.2441 L209.011 47.2441  Z\" fill=\"#ffffff\" fill-rule=\"evenodd\" fill-opacity=\"1\"/>\n",
              "<defs>\n",
              "  <clipPath id=\"clip662\">\n",
              "    <rect x=\"209\" y=\"47\" width=\"2433\" height=\"1688\"/>\n",
              "  </clipPath>\n",
              "</defs>\n",
              "<polyline clip-path=\"url(#clip662)\" style=\"stroke:#000000; stroke-linecap:round; stroke-linejoin:round; stroke-width:2; stroke-opacity:0.1; fill:none\" points=\"342.761,1734.12 342.761,47.2441 \"/>\n",
              "<polyline clip-path=\"url(#clip662)\" style=\"stroke:#000000; stroke-linecap:round; stroke-linejoin:round; stroke-width:2; stroke-opacity:0.1; fill:none\" points=\"703.469,1734.12 703.469,47.2441 \"/>\n",
              "<polyline clip-path=\"url(#clip662)\" style=\"stroke:#000000; stroke-linecap:round; stroke-linejoin:round; stroke-width:2; stroke-opacity:0.1; fill:none\" points=\"1064.18,1734.12 1064.18,47.2441 \"/>\n",
              "<polyline clip-path=\"url(#clip662)\" style=\"stroke:#000000; stroke-linecap:round; stroke-linejoin:round; stroke-width:2; stroke-opacity:0.1; fill:none\" points=\"1424.88,1734.12 1424.88,47.2441 \"/>\n",
              "<polyline clip-path=\"url(#clip662)\" style=\"stroke:#000000; stroke-linecap:round; stroke-linejoin:round; stroke-width:2; stroke-opacity:0.1; fill:none\" points=\"1785.59,1734.12 1785.59,47.2441 \"/>\n",
              "<polyline clip-path=\"url(#clip662)\" style=\"stroke:#000000; stroke-linecap:round; stroke-linejoin:round; stroke-width:2; stroke-opacity:0.1; fill:none\" points=\"2146.3,1734.12 2146.3,47.2441 \"/>\n",
              "<polyline clip-path=\"url(#clip662)\" style=\"stroke:#000000; stroke-linecap:round; stroke-linejoin:round; stroke-width:2; stroke-opacity:0.1; fill:none\" points=\"2507.01,1734.12 2507.01,47.2441 \"/>\n",
              "<polyline clip-path=\"url(#clip660)\" style=\"stroke:#000000; stroke-linecap:round; stroke-linejoin:round; stroke-width:4; stroke-opacity:1; fill:none\" points=\"209.011,1734.12 2640.76,1734.12 \"/>\n",
              "<polyline clip-path=\"url(#clip660)\" style=\"stroke:#000000; stroke-linecap:round; stroke-linejoin:round; stroke-width:4; stroke-opacity:1; fill:none\" points=\"342.761,1734.12 342.761,1715.22 \"/>\n",
              "<polyline clip-path=\"url(#clip660)\" style=\"stroke:#000000; stroke-linecap:round; stroke-linejoin:round; stroke-width:4; stroke-opacity:1; fill:none\" points=\"703.469,1734.12 703.469,1715.22 \"/>\n",
              "<polyline clip-path=\"url(#clip660)\" style=\"stroke:#000000; stroke-linecap:round; stroke-linejoin:round; stroke-width:4; stroke-opacity:1; fill:none\" points=\"1064.18,1734.12 1064.18,1715.22 \"/>\n",
              "<polyline clip-path=\"url(#clip660)\" style=\"stroke:#000000; stroke-linecap:round; stroke-linejoin:round; stroke-width:4; stroke-opacity:1; fill:none\" points=\"1424.88,1734.12 1424.88,1715.22 \"/>\n",
              "<polyline clip-path=\"url(#clip660)\" style=\"stroke:#000000; stroke-linecap:round; stroke-linejoin:round; stroke-width:4; stroke-opacity:1; fill:none\" points=\"1785.59,1734.12 1785.59,1715.22 \"/>\n",
              "<polyline clip-path=\"url(#clip660)\" style=\"stroke:#000000; stroke-linecap:round; stroke-linejoin:round; stroke-width:4; stroke-opacity:1; fill:none\" points=\"2146.3,1734.12 2146.3,1715.22 \"/>\n",
              "<polyline clip-path=\"url(#clip660)\" style=\"stroke:#000000; stroke-linecap:round; stroke-linejoin:round; stroke-width:4; stroke-opacity:1; fill:none\" points=\"2507.01,1734.12 2507.01,1715.22 \"/>\n",
              "<path clip-path=\"url(#clip660)\" d=\"M333.143 1794.89 L340.782 1794.89 L340.782 1768.52 L332.472 1770.19 L332.472 1765.93 L340.736 1764.26 L345.412 1764.26 L345.412 1794.89 L353.051 1794.89 L353.051 1798.82 L333.143 1798.82 L333.143 1794.89 Z\" fill=\"#000000\" fill-rule=\"nonzero\" fill-opacity=\"1\" /><path clip-path=\"url(#clip660)\" d=\"M698.122 1794.89 L714.441 1794.89 L714.441 1798.82 L692.497 1798.82 L692.497 1794.89 Q695.159 1792.13 699.742 1787.5 Q704.348 1782.85 705.529 1781.51 Q707.774 1778.98 708.654 1777.25 Q709.557 1775.49 709.557 1773.8 Q709.557 1771.04 707.612 1769.31 Q705.691 1767.57 702.589 1767.57 Q700.39 1767.57 697.936 1768.34 Q695.506 1769.1 692.728 1770.65 L692.728 1765.93 Q695.552 1764.79 698.006 1764.21 Q700.459 1763.64 702.496 1763.64 Q707.867 1763.64 711.061 1766.32 Q714.256 1769.01 714.256 1773.5 Q714.256 1775.63 713.445 1777.55 Q712.658 1779.45 710.552 1782.04 Q709.973 1782.71 706.871 1785.93 Q703.77 1789.12 698.122 1794.89 Z\" fill=\"#000000\" fill-rule=\"nonzero\" fill-opacity=\"1\" /><path clip-path=\"url(#clip660)\" d=\"M1068.42 1780.19 Q1071.78 1780.9 1073.66 1783.17 Q1075.55 1785.44 1075.55 1788.77 Q1075.55 1793.89 1072.03 1796.69 Q1068.52 1799.49 1062.03 1799.49 Q1059.86 1799.49 1057.54 1799.05 Q1055.25 1798.64 1052.8 1797.78 L1052.8 1793.27 Q1054.74 1794.4 1057.06 1794.98 Q1059.37 1795.56 1061.9 1795.56 Q1066.29 1795.56 1068.59 1793.82 Q1070.9 1792.08 1070.9 1788.77 Q1070.9 1785.72 1068.75 1784.01 Q1066.62 1782.27 1062.8 1782.27 L1058.77 1782.27 L1058.77 1778.43 L1062.98 1778.43 Q1066.43 1778.43 1068.26 1777.06 Q1070.09 1775.67 1070.09 1773.08 Q1070.09 1770.42 1068.19 1769.01 Q1066.32 1767.57 1062.8 1767.57 Q1060.88 1767.57 1058.68 1767.99 Q1056.48 1768.4 1053.84 1769.28 L1053.84 1765.12 Q1056.5 1764.38 1058.82 1764.01 Q1061.16 1763.64 1063.22 1763.64 Q1068.54 1763.64 1071.64 1766.07 Q1074.74 1768.47 1074.74 1772.59 Q1074.74 1775.46 1073.1 1777.46 Q1071.46 1779.42 1068.42 1780.19 Z\" fill=\"#000000\" fill-rule=\"nonzero\" fill-opacity=\"1\" /><path clip-path=\"url(#clip660)\" d=\"M1427.89 1768.34 L1416.09 1786.78 L1427.89 1786.78 L1427.89 1768.34 M1426.67 1764.26 L1432.55 1764.26 L1432.55 1786.78 L1437.48 1786.78 L1437.48 1790.67 L1432.55 1790.67 L1432.55 1798.82 L1427.89 1798.82 L1427.89 1790.67 L1412.29 1790.67 L1412.29 1786.16 L1426.67 1764.26 Z\" fill=\"#000000\" fill-rule=\"nonzero\" fill-opacity=\"1\" /><path clip-path=\"url(#clip660)\" d=\"M1775.87 1764.26 L1794.23 1764.26 L1794.23 1768.2 L1780.15 1768.2 L1780.15 1776.67 Q1781.17 1776.32 1782.19 1776.16 Q1783.21 1775.97 1784.23 1775.97 Q1790.01 1775.97 1793.39 1779.15 Q1796.77 1782.32 1796.77 1787.73 Q1796.77 1793.31 1793.3 1796.41 Q1789.83 1799.49 1783.51 1799.49 Q1781.33 1799.49 1779.06 1799.12 Q1776.82 1798.75 1774.41 1798.01 L1774.41 1793.31 Q1776.49 1794.45 1778.72 1795 Q1780.94 1795.56 1783.41 1795.56 Q1787.42 1795.56 1789.76 1793.45 Q1792.1 1791.34 1792.1 1787.73 Q1792.1 1784.12 1789.76 1782.02 Q1787.42 1779.91 1783.41 1779.91 Q1781.54 1779.91 1779.66 1780.33 Q1777.81 1780.74 1775.87 1781.62 L1775.87 1764.26 Z\" fill=\"#000000\" fill-rule=\"nonzero\" fill-opacity=\"1\" /><path clip-path=\"url(#clip660)\" d=\"M2146.7 1779.68 Q2143.56 1779.68 2141.7 1781.83 Q2139.87 1783.98 2139.87 1787.73 Q2139.87 1791.46 2141.7 1793.64 Q2143.56 1795.79 2146.7 1795.79 Q2149.85 1795.79 2151.68 1793.64 Q2153.53 1791.46 2153.53 1787.73 Q2153.53 1783.98 2151.68 1781.83 Q2149.85 1779.68 2146.7 1779.68 M2155.99 1765.02 L2155.99 1769.28 Q2154.23 1768.45 2152.42 1768.01 Q2150.64 1767.57 2148.88 1767.57 Q2144.25 1767.57 2141.8 1770.7 Q2139.37 1773.82 2139.02 1780.14 Q2140.38 1778.13 2142.44 1777.06 Q2144.5 1775.97 2146.98 1775.97 Q2152.19 1775.97 2155.2 1779.15 Q2158.23 1782.29 2158.23 1787.73 Q2158.23 1793.06 2155.08 1796.27 Q2151.93 1799.49 2146.7 1799.49 Q2140.71 1799.49 2137.54 1794.91 Q2134.37 1790.3 2134.37 1781.58 Q2134.37 1773.38 2138.25 1768.52 Q2142.14 1763.64 2148.69 1763.64 Q2150.45 1763.64 2152.24 1763.98 Q2154.04 1764.33 2155.99 1765.02 Z\" fill=\"#000000\" fill-rule=\"nonzero\" fill-opacity=\"1\" /><path clip-path=\"url(#clip660)\" d=\"M2495.89 1764.26 L2518.12 1764.26 L2518.12 1766.25 L2505.57 1798.82 L2500.69 1798.82 L2512.49 1768.2 L2495.89 1768.2 L2495.89 1764.26 Z\" fill=\"#000000\" fill-rule=\"nonzero\" fill-opacity=\"1\" /><path clip-path=\"url(#clip660)\" d=\"M1264.26 1841.06 L1264.26 1878.02 L1272.03 1878.02 Q1281.86 1878.02 1286.41 1873.56 Q1291 1869.11 1291 1859.49 Q1291 1849.94 1286.41 1845.52 Q1281.86 1841.06 1272.03 1841.06 L1264.26 1841.06 M1257.83 1835.78 L1271.04 1835.78 Q1284.85 1835.78 1291.32 1841.54 Q1297.78 1847.27 1297.78 1859.49 Q1297.78 1871.78 1291.28 1877.54 Q1284.79 1883.3 1271.04 1883.3 L1257.83 1883.3 L1257.83 1835.78 Z\" fill=\"#000000\" fill-rule=\"nonzero\" fill-opacity=\"1\" /><path clip-path=\"url(#clip660)\" d=\"M1307.77 1847.65 L1313.63 1847.65 L1313.63 1883.3 L1307.77 1883.3 L1307.77 1847.65 M1307.77 1833.78 L1313.63 1833.78 L1313.63 1841.19 L1307.77 1841.19 L1307.77 1833.78 Z\" fill=\"#000000\" fill-rule=\"nonzero\" fill-opacity=\"1\" /><path clip-path=\"url(#clip660)\" d=\"M1351.53 1849.02 L1351.53 1854.5 Q1349.05 1853.13 1346.54 1852.46 Q1344.05 1851.76 1341.51 1851.76 Q1335.81 1851.76 1332.66 1855.39 Q1329.51 1858.98 1329.51 1865.51 Q1329.51 1872.03 1332.66 1875.66 Q1335.81 1879.26 1341.51 1879.26 Q1344.05 1879.26 1346.54 1878.59 Q1349.05 1877.89 1351.53 1876.52 L1351.53 1881.93 Q1349.08 1883.08 1346.44 1883.65 Q1343.83 1884.22 1340.87 1884.22 Q1332.82 1884.22 1328.08 1879.16 Q1323.33 1874.1 1323.33 1865.51 Q1323.33 1856.79 1328.11 1851.79 Q1332.91 1846.79 1341.25 1846.79 Q1343.96 1846.79 1346.54 1847.37 Q1349.12 1847.91 1351.53 1849.02 Z\" fill=\"#000000\" fill-rule=\"nonzero\" fill-opacity=\"1\" /><path clip-path=\"url(#clip660)\" d=\"M1392.21 1864.01 L1392.21 1866.88 L1365.28 1866.88 Q1365.67 1872.92 1368.91 1876.11 Q1372.19 1879.26 1378.02 1879.26 Q1381.39 1879.26 1384.54 1878.43 Q1387.72 1877.6 1390.84 1875.95 L1390.84 1881.49 Q1387.69 1882.82 1384.38 1883.52 Q1381.07 1884.22 1377.67 1884.22 Q1369.14 1884.22 1364.14 1879.26 Q1359.17 1874.29 1359.17 1865.83 Q1359.17 1857.07 1363.88 1851.95 Q1368.63 1846.79 1376.65 1846.79 Q1383.84 1846.79 1388.01 1851.44 Q1392.21 1856.06 1392.21 1864.01 M1386.36 1862.29 Q1386.29 1857.49 1383.65 1854.62 Q1381.04 1851.76 1376.71 1851.76 Q1371.81 1851.76 1368.85 1854.53 Q1365.92 1857.3 1365.48 1862.33 L1386.36 1862.29 Z\" fill=\"#000000\" fill-rule=\"nonzero\" fill-opacity=\"1\" /><path clip-path=\"url(#clip660)\" d=\"M1435.05 1883.3 L1416.91 1835.78 L1423.63 1835.78 L1438.68 1875.79 L1453.77 1835.78 L1460.45 1835.78 L1442.34 1883.3 L1435.05 1883.3 Z\" fill=\"#000000\" fill-rule=\"nonzero\" fill-opacity=\"1\" /><path clip-path=\"url(#clip660)\" d=\"M1478.28 1865.38 Q1471.18 1865.38 1468.44 1867 Q1465.7 1868.63 1465.7 1872.54 Q1465.7 1875.66 1467.74 1877.51 Q1469.81 1879.32 1473.34 1879.32 Q1478.21 1879.32 1481.14 1875.88 Q1484.1 1872.42 1484.1 1866.69 L1484.1 1865.38 L1478.28 1865.38 M1489.96 1862.96 L1489.96 1883.3 L1484.1 1883.3 L1484.1 1877.89 Q1482.1 1881.14 1479.1 1882.7 Q1476.11 1884.22 1471.78 1884.22 Q1466.31 1884.22 1463.06 1881.17 Q1459.85 1878.08 1459.85 1872.92 Q1459.85 1866.91 1463.86 1863.85 Q1467.9 1860.8 1475.89 1860.8 L1484.1 1860.8 L1484.1 1860.23 Q1484.1 1856.18 1481.43 1853.99 Q1478.79 1851.76 1473.98 1851.76 Q1470.92 1851.76 1468.03 1852.49 Q1465.13 1853.22 1462.46 1854.69 L1462.46 1849.28 Q1465.67 1848.03 1468.7 1847.43 Q1471.72 1846.79 1474.58 1846.79 Q1482.32 1846.79 1486.14 1850.8 Q1489.96 1854.81 1489.96 1862.96 Z\" fill=\"#000000\" fill-rule=\"nonzero\" fill-opacity=\"1\" /><path clip-path=\"url(#clip660)\" d=\"M1502.02 1833.78 L1507.88 1833.78 L1507.88 1883.3 L1502.02 1883.3 L1502.02 1833.78 Z\" fill=\"#000000\" fill-rule=\"nonzero\" fill-opacity=\"1\" /><path clip-path=\"url(#clip660)\" d=\"M1519.53 1869.23 L1519.53 1847.65 L1525.38 1847.65 L1525.38 1869.01 Q1525.38 1874.07 1527.36 1876.62 Q1529.33 1879.13 1533.28 1879.13 Q1538.02 1879.13 1540.76 1876.11 Q1543.52 1873.08 1543.52 1867.86 L1543.52 1847.65 L1549.38 1847.65 L1549.38 1883.3 L1543.52 1883.3 L1543.52 1877.83 Q1541.39 1881.07 1538.56 1882.66 Q1535.76 1884.22 1532.03 1884.22 Q1525.89 1884.22 1522.71 1880.4 Q1519.53 1876.59 1519.53 1869.23 M1534.26 1846.79 L1534.26 1846.79 Z\" fill=\"#000000\" fill-rule=\"nonzero\" fill-opacity=\"1\" /><path clip-path=\"url(#clip660)\" d=\"M1591.94 1864.01 L1591.94 1866.88 L1565.01 1866.88 Q1565.39 1872.92 1568.64 1876.11 Q1571.92 1879.26 1577.74 1879.26 Q1581.11 1879.26 1584.26 1878.43 Q1587.45 1877.6 1590.57 1875.95 L1590.57 1881.49 Q1587.42 1882.82 1584.11 1883.52 Q1580.8 1884.22 1577.39 1884.22 Q1568.86 1884.22 1563.86 1879.26 Q1558.9 1874.29 1558.9 1865.83 Q1558.9 1857.07 1563.61 1851.95 Q1568.35 1846.79 1576.37 1846.79 Q1583.56 1846.79 1587.73 1851.44 Q1591.94 1856.06 1591.94 1864.01 M1586.08 1862.29 Q1586.02 1857.49 1583.37 1854.62 Q1580.76 1851.76 1576.44 1851.76 Q1571.53 1851.76 1568.57 1854.53 Q1565.65 1857.3 1565.2 1862.33 L1586.08 1862.29 Z\" fill=\"#000000\" fill-rule=\"nonzero\" fill-opacity=\"1\" /><polyline clip-path=\"url(#clip662)\" style=\"stroke:#000000; stroke-linecap:round; stroke-linejoin:round; stroke-width:2; stroke-opacity:0.1; fill:none\" points=\"209.011,1734.12 2640.76,1734.12 \"/>\n",
              "<polyline clip-path=\"url(#clip662)\" style=\"stroke:#000000; stroke-linecap:round; stroke-linejoin:round; stroke-width:2; stroke-opacity:0.1; fill:none\" points=\"209.011,1493.14 2640.76,1493.14 \"/>\n",
              "<polyline clip-path=\"url(#clip662)\" style=\"stroke:#000000; stroke-linecap:round; stroke-linejoin:round; stroke-width:2; stroke-opacity:0.1; fill:none\" points=\"209.011,1252.15 2640.76,1252.15 \"/>\n",
              "<polyline clip-path=\"url(#clip662)\" style=\"stroke:#000000; stroke-linecap:round; stroke-linejoin:round; stroke-width:2; stroke-opacity:0.1; fill:none\" points=\"209.011,1011.17 2640.76,1011.17 \"/>\n",
              "<polyline clip-path=\"url(#clip662)\" style=\"stroke:#000000; stroke-linecap:round; stroke-linejoin:round; stroke-width:2; stroke-opacity:0.1; fill:none\" points=\"209.011,770.19 2640.76,770.19 \"/>\n",
              "<polyline clip-path=\"url(#clip662)\" style=\"stroke:#000000; stroke-linecap:round; stroke-linejoin:round; stroke-width:2; stroke-opacity:0.1; fill:none\" points=\"209.011,529.208 2640.76,529.208 \"/>\n",
              "<polyline clip-path=\"url(#clip662)\" style=\"stroke:#000000; stroke-linecap:round; stroke-linejoin:round; stroke-width:2; stroke-opacity:0.1; fill:none\" points=\"209.011,288.226 2640.76,288.226 \"/>\n",
              "<polyline clip-path=\"url(#clip662)\" style=\"stroke:#000000; stroke-linecap:round; stroke-linejoin:round; stroke-width:2; stroke-opacity:0.1; fill:none\" points=\"209.011,47.2441 2640.76,47.2441 \"/>\n",
              "<polyline clip-path=\"url(#clip660)\" style=\"stroke:#000000; stroke-linecap:round; stroke-linejoin:round; stroke-width:4; stroke-opacity:1; fill:none\" points=\"209.011,1734.12 209.011,47.2441 \"/>\n",
              "<polyline clip-path=\"url(#clip660)\" style=\"stroke:#000000; stroke-linecap:round; stroke-linejoin:round; stroke-width:4; stroke-opacity:1; fill:none\" points=\"209.011,1734.12 227.909,1734.12 \"/>\n",
              "<polyline clip-path=\"url(#clip660)\" style=\"stroke:#000000; stroke-linecap:round; stroke-linejoin:round; stroke-width:4; stroke-opacity:1; fill:none\" points=\"209.011,1493.14 227.909,1493.14 \"/>\n",
              "<polyline clip-path=\"url(#clip660)\" style=\"stroke:#000000; stroke-linecap:round; stroke-linejoin:round; stroke-width:4; stroke-opacity:1; fill:none\" points=\"209.011,1252.15 227.909,1252.15 \"/>\n",
              "<polyline clip-path=\"url(#clip660)\" style=\"stroke:#000000; stroke-linecap:round; stroke-linejoin:round; stroke-width:4; stroke-opacity:1; fill:none\" points=\"209.011,1011.17 227.909,1011.17 \"/>\n",
              "<polyline clip-path=\"url(#clip660)\" style=\"stroke:#000000; stroke-linecap:round; stroke-linejoin:round; stroke-width:4; stroke-opacity:1; fill:none\" points=\"209.011,770.19 227.909,770.19 \"/>\n",
              "<polyline clip-path=\"url(#clip660)\" style=\"stroke:#000000; stroke-linecap:round; stroke-linejoin:round; stroke-width:4; stroke-opacity:1; fill:none\" points=\"209.011,529.208 227.909,529.208 \"/>\n",
              "<polyline clip-path=\"url(#clip660)\" style=\"stroke:#000000; stroke-linecap:round; stroke-linejoin:round; stroke-width:4; stroke-opacity:1; fill:none\" points=\"209.011,288.226 227.909,288.226 \"/>\n",
              "<polyline clip-path=\"url(#clip660)\" style=\"stroke:#000000; stroke-linecap:round; stroke-linejoin:round; stroke-width:4; stroke-opacity:1; fill:none\" points=\"209.011,47.2441 227.909,47.2441 \"/>\n",
              "<path clip-path=\"url(#clip660)\" d=\"M156.747 1719.92 Q153.136 1719.92 151.307 1723.48 Q149.501 1727.02 149.501 1734.15 Q149.501 1741.26 151.307 1744.82 Q153.136 1748.36 156.747 1748.36 Q160.381 1748.36 162.186 1744.82 Q164.015 1741.26 164.015 1734.15 Q164.015 1727.02 162.186 1723.48 Q160.381 1719.92 156.747 1719.92 M156.747 1716.21 Q162.557 1716.21 165.612 1720.82 Q168.691 1725.4 168.691 1734.15 Q168.691 1742.88 165.612 1747.48 Q162.557 1752.07 156.747 1752.07 Q150.936 1752.07 147.858 1747.48 Q144.802 1742.88 144.802 1734.15 Q144.802 1725.4 147.858 1720.82 Q150.936 1716.21 156.747 1716.21 Z\" fill=\"#000000\" fill-rule=\"nonzero\" fill-opacity=\"1\" /><path clip-path=\"url(#clip660)\" d=\"M161.561 1491.78 Q164.918 1492.5 166.793 1494.77 Q168.691 1497.04 168.691 1500.37 Q168.691 1505.48 165.173 1508.29 Q161.654 1511.09 155.173 1511.09 Q152.997 1511.09 150.682 1510.65 Q148.39 1510.23 145.937 1509.37 L145.937 1504.86 Q147.881 1505.99 150.196 1506.57 Q152.511 1507.15 155.034 1507.15 Q159.432 1507.15 161.723 1505.42 Q164.038 1503.68 164.038 1500.37 Q164.038 1497.31 161.885 1495.6 Q159.756 1493.86 155.936 1493.86 L151.909 1493.86 L151.909 1490.02 L156.122 1490.02 Q159.571 1490.02 161.399 1488.66 Q163.228 1487.27 163.228 1484.67 Q163.228 1482.01 161.33 1480.6 Q159.455 1479.17 155.936 1479.17 Q154.015 1479.17 151.816 1479.58 Q149.617 1480 146.978 1480.88 L146.978 1476.71 Q149.64 1475.97 151.955 1475.6 Q154.293 1475.23 156.353 1475.23 Q161.677 1475.23 164.779 1477.66 Q167.881 1480.07 167.881 1484.19 Q167.881 1487.06 166.237 1489.05 Q164.594 1491.02 161.561 1491.78 Z\" fill=\"#000000\" fill-rule=\"nonzero\" fill-opacity=\"1\" /><path clip-path=\"url(#clip660)\" d=\"M157.163 1250.29 Q154.015 1250.29 152.163 1252.44 Q150.335 1254.6 150.335 1258.35 Q150.335 1262.07 152.163 1264.25 Q154.015 1266.4 157.163 1266.4 Q160.311 1266.4 162.14 1264.25 Q163.992 1262.07 163.992 1258.35 Q163.992 1254.6 162.14 1252.44 Q160.311 1250.29 157.163 1250.29 M166.446 1235.64 L166.446 1239.9 Q164.686 1239.06 162.881 1238.62 Q161.098 1238.18 159.339 1238.18 Q154.71 1238.18 152.256 1241.31 Q149.825 1244.43 149.478 1250.75 Q150.844 1248.74 152.904 1247.67 Q154.964 1246.59 157.441 1246.59 Q162.649 1246.59 165.659 1249.76 Q168.691 1252.91 168.691 1258.35 Q168.691 1263.67 165.543 1266.89 Q162.395 1270.1 157.163 1270.1 Q151.168 1270.1 147.997 1265.52 Q144.825 1260.91 144.825 1252.19 Q144.825 1243.99 148.714 1239.13 Q152.603 1234.25 159.154 1234.25 Q160.913 1234.25 162.696 1234.6 Q164.501 1234.94 166.446 1235.64 Z\" fill=\"#000000\" fill-rule=\"nonzero\" fill-opacity=\"1\" /><path clip-path=\"url(#clip660)\" d=\"M147.071 1027.73 L147.071 1023.47 Q148.83 1024.31 150.636 1024.75 Q152.441 1025.19 154.177 1025.19 Q158.807 1025.19 161.237 1022.09 Q163.691 1018.96 164.038 1012.62 Q162.696 1014.61 160.636 1015.67 Q158.575 1016.74 156.075 1016.74 Q150.89 1016.74 147.858 1013.61 Q144.849 1010.47 144.849 1005.03 Q144.849 999.702 147.997 996.484 Q151.145 993.266 156.376 993.266 Q162.372 993.266 165.52 997.873 Q168.691 1002.46 168.691 1011.21 Q168.691 1019.38 164.802 1024.26 Q160.936 1029.12 154.386 1029.12 Q152.626 1029.12 150.821 1028.78 Q149.015 1028.43 147.071 1027.73 M156.376 1013.08 Q159.524 1013.08 161.353 1010.93 Q163.205 1008.78 163.205 1005.03 Q163.205 1001.3 161.353 999.146 Q159.524 996.97 156.376 996.97 Q153.228 996.97 151.376 999.146 Q149.548 1001.3 149.548 1005.03 Q149.548 1008.78 151.376 1010.93 Q153.228 1013.08 156.376 1013.08 Z\" fill=\"#000000\" fill-rule=\"nonzero\" fill-opacity=\"1\" /><path clip-path=\"url(#clip660)\" d=\"M118.992 783.534 L126.631 783.534 L126.631 757.169 L118.321 758.836 L118.321 754.576 L126.585 752.91 L131.261 752.91 L131.261 783.534 L138.9 783.534 L138.9 787.47 L118.992 787.47 L118.992 783.534 Z\" fill=\"#000000\" fill-rule=\"nonzero\" fill-opacity=\"1\" /><path clip-path=\"url(#clip660)\" d=\"M152.372 783.534 L168.691 783.534 L168.691 787.47 L146.747 787.47 L146.747 783.534 Q149.409 780.78 153.992 776.15 Q158.598 771.497 159.779 770.155 Q162.024 767.632 162.904 765.896 Q163.807 764.136 163.807 762.447 Q163.807 759.692 161.862 757.956 Q159.941 756.22 156.839 756.22 Q154.64 756.22 152.186 756.984 Q149.756 757.748 146.978 759.298 L146.978 754.576 Q149.802 753.442 152.256 752.863 Q154.71 752.285 156.747 752.285 Q162.117 752.285 165.311 754.97 Q168.506 757.655 168.506 762.146 Q168.506 764.275 167.696 766.197 Q166.909 768.095 164.802 770.687 Q164.223 771.359 161.122 774.576 Q158.02 777.771 152.372 783.534 Z\" fill=\"#000000\" fill-rule=\"nonzero\" fill-opacity=\"1\" /><path clip-path=\"url(#clip660)\" d=\"M118.39 542.553 L126.029 542.553 L126.029 516.187 L117.719 517.854 L117.719 513.594 L125.983 511.928 L130.659 511.928 L130.659 542.553 L138.298 542.553 L138.298 546.488 L118.39 546.488 L118.39 542.553 Z\" fill=\"#000000\" fill-rule=\"nonzero\" fill-opacity=\"1\" /><path clip-path=\"url(#clip660)\" d=\"M147.788 511.928 L166.145 511.928 L166.145 515.863 L152.071 515.863 L152.071 524.335 Q153.089 523.988 154.108 523.826 Q155.126 523.641 156.145 523.641 Q161.932 523.641 165.311 526.812 Q168.691 529.983 168.691 535.4 Q168.691 540.979 165.219 544.08 Q161.747 547.159 155.427 547.159 Q153.251 547.159 150.983 546.789 Q148.737 546.418 146.33 545.678 L146.33 540.979 Q148.413 542.113 150.636 542.668 Q152.858 543.224 155.335 543.224 Q159.339 543.224 161.677 541.117 Q164.015 539.011 164.015 535.4 Q164.015 531.789 161.677 529.682 Q159.339 527.576 155.335 527.576 Q153.46 527.576 151.585 527.993 Q149.733 528.409 147.788 529.289 L147.788 511.928 Z\" fill=\"#000000\" fill-rule=\"nonzero\" fill-opacity=\"1\" /><path clip-path=\"url(#clip660)\" d=\"M117.488 301.571 L125.126 301.571 L125.126 275.205 L116.816 276.872 L116.816 272.613 L125.08 270.946 L129.756 270.946 L129.756 301.571 L137.395 301.571 L137.395 305.506 L117.488 305.506 L117.488 301.571 Z\" fill=\"#000000\" fill-rule=\"nonzero\" fill-opacity=\"1\" /><path clip-path=\"url(#clip660)\" d=\"M156.839 289.094 Q153.506 289.094 151.585 290.876 Q149.686 292.659 149.686 295.784 Q149.686 298.909 151.585 300.691 Q153.506 302.474 156.839 302.474 Q160.173 302.474 162.094 300.691 Q164.015 298.886 164.015 295.784 Q164.015 292.659 162.094 290.876 Q160.196 289.094 156.839 289.094 M152.163 287.103 Q149.154 286.363 147.464 284.302 Q145.798 282.242 145.798 279.279 Q145.798 275.136 148.737 272.728 Q151.7 270.321 156.839 270.321 Q162.001 270.321 164.941 272.728 Q167.881 275.136 167.881 279.279 Q167.881 282.242 166.191 284.302 Q164.524 286.363 161.538 287.103 Q164.918 287.89 166.793 290.182 Q168.691 292.474 168.691 295.784 Q168.691 300.807 165.612 303.492 Q162.557 306.177 156.839 306.177 Q151.122 306.177 148.043 303.492 Q144.987 300.807 144.987 295.784 Q144.987 292.474 146.886 290.182 Q148.784 287.89 152.163 287.103 M150.45 279.719 Q150.45 282.404 152.117 283.909 Q153.807 285.413 156.839 285.413 Q159.848 285.413 161.538 283.909 Q163.251 282.404 163.251 279.719 Q163.251 277.034 161.538 275.529 Q159.848 274.025 156.839 274.025 Q153.807 274.025 152.117 275.529 Q150.45 277.034 150.45 279.719 Z\" fill=\"#000000\" fill-rule=\"nonzero\" fill-opacity=\"1\" /><path clip-path=\"url(#clip660)\" d=\"M121.839 60.5889 L138.159 60.5889 L138.159 64.5241 L116.214 64.5241 L116.214 60.5889 Q118.876 57.8343 123.46 53.2047 Q128.066 48.552 129.247 47.2094 Q131.492 44.6862 132.372 42.9501 Q133.275 41.1909 133.275 39.5011 Q133.275 36.7465 131.33 35.0104 Q129.409 33.2743 126.307 33.2743 Q124.108 33.2743 121.654 34.0381 Q119.224 34.802 116.446 36.3529 L116.446 31.6308 Q119.27 30.4965 121.724 29.9178 Q124.177 29.3391 126.214 29.3391 Q131.585 29.3391 134.779 32.0243 Q137.974 34.7094 137.974 39.2002 Q137.974 41.3298 137.163 43.2511 Q136.376 45.1492 134.27 47.7418 Q133.691 48.4131 130.589 51.6306 Q127.488 54.8251 121.839 60.5889 Z\" fill=\"#000000\" fill-rule=\"nonzero\" fill-opacity=\"1\" /><path clip-path=\"url(#clip660)\" d=\"M148.784 60.5889 L156.423 60.5889 L156.423 34.2233 L148.112 35.89 L148.112 31.6308 L156.376 29.9641 L161.052 29.9641 L161.052 60.5889 L168.691 60.5889 L168.691 64.5241 L148.784 64.5241 L148.784 60.5889 Z\" fill=\"#000000\" fill-rule=\"nonzero\" fill-opacity=\"1\" /><path clip-path=\"url(#clip660)\" d=\"M17.7787 946.54 L24.5582 946.54 Q21.5345 949.786 20.0386 953.478 Q18.5426 957.139 18.5426 961.276 Q18.5426 969.424 23.5397 973.753 Q28.5049 978.082 37.9262 978.082 Q47.3156 978.082 52.3127 973.753 Q57.2779 969.424 57.2779 961.276 Q57.2779 957.139 55.782 953.478 Q54.2861 949.786 51.2623 946.54 L57.9782 946.54 Q60.2698 949.913 61.4156 953.701 Q62.5615 957.457 62.5615 961.658 Q62.5615 972.448 55.973 978.655 Q49.3526 984.861 37.9262 984.861 Q26.4679 984.861 19.8794 978.655 Q13.2591 972.448 13.2591 961.658 Q13.2591 957.393 14.4049 953.637 Q15.5189 949.85 17.7787 946.54 Z\" fill=\"#000000\" fill-rule=\"nonzero\" fill-opacity=\"1\" /><path clip-path=\"url(#clip660)\" d=\"M30.0964 923.05 Q30.0964 927.761 33.7885 930.498 Q37.4488 933.235 43.8463 933.235 Q50.2438 933.235 53.9359 930.53 Q57.5962 927.793 57.5962 923.05 Q57.5962 918.371 53.9041 915.634 Q50.212 912.897 43.8463 912.897 Q37.5124 912.897 33.8203 915.634 Q30.0964 918.371 30.0964 923.05 M25.1311 923.05 Q25.1311 915.411 30.0964 911.051 Q35.0616 906.69 43.8463 906.69 Q52.5991 906.69 57.5962 911.051 Q62.5615 915.411 62.5615 923.05 Q62.5615 930.721 57.5962 935.081 Q52.5991 939.41 43.8463 939.41 Q35.0616 939.41 30.0964 935.081 Q25.1311 930.721 25.1311 923.05 Z\" fill=\"#000000\" fill-rule=\"nonzero\" fill-opacity=\"1\" /><path clip-path=\"url(#clip660)\" d=\"M47.5702 897.587 L25.9905 897.587 L25.9905 891.731 L47.3474 891.731 Q52.4082 891.731 54.9545 889.758 Q57.4689 887.784 57.4689 883.837 Q57.4689 879.095 54.4452 876.358 Q51.4215 873.589 46.2016 873.589 L25.9905 873.589 L25.9905 867.732 L61.6384 867.732 L61.6384 873.589 L56.1639 873.589 Q59.4104 875.721 61.0019 878.554 Q62.5615 881.355 62.5615 885.079 Q62.5615 891.222 58.742 894.404 Q54.9226 897.587 47.5702 897.587 M25.1311 882.851 L25.1311 882.851 Z\" fill=\"#000000\" fill-rule=\"nonzero\" fill-opacity=\"1\" /><path clip-path=\"url(#clip660)\" d=\"M40.1224 826.037 L61.6384 826.037 L61.6384 831.893 L40.3133 831.893 Q35.2526 831.893 32.7381 833.867 Q30.2237 835.84 30.2237 839.787 Q30.2237 844.529 33.2474 847.266 Q36.2711 850.004 41.491 850.004 L61.6384 850.004 L61.6384 855.892 L25.9905 855.892 L25.9905 850.004 L31.5287 850.004 Q28.314 847.903 26.7225 845.07 Q25.1311 842.206 25.1311 838.482 Q25.1311 832.339 28.9505 829.188 Q32.7381 826.037 40.1224 826.037 Z\" fill=\"#000000\" fill-rule=\"nonzero\" fill-opacity=\"1\" /><path clip-path=\"url(#clip660)\" d=\"M15.869 808.563 L25.9905 808.563 L25.9905 796.5 L30.542 796.5 L30.542 808.563 L49.8937 808.563 Q54.2542 808.563 55.4955 807.385 Q56.7368 806.176 56.7368 802.516 L56.7368 796.5 L61.6384 796.5 L61.6384 802.516 Q61.6384 809.295 59.124 811.873 Q56.5777 814.451 49.8937 814.451 L30.542 814.451 L30.542 818.748 L25.9905 818.748 L25.9905 814.451 L15.869 814.451 L15.869 808.563 Z\" fill=\"#000000\" fill-rule=\"nonzero\" fill-opacity=\"1\" /><path clip-path=\"url(#clip662)\" d=\"M342.761 207.899 L342.761 1734.12 L703.469 1734.12 L703.469 207.899 L342.761 207.899 L342.761 207.899  Z\" fill=\"#009af9\" fill-rule=\"evenodd\" fill-opacity=\"1\"/>\n",
              "<polyline clip-path=\"url(#clip662)\" style=\"stroke:#000000; stroke-linecap:round; stroke-linejoin:round; stroke-width:4; stroke-opacity:1; fill:none\" points=\"342.761,207.899 342.761,1734.12 703.469,1734.12 703.469,207.899 342.761,207.899 \"/>\n",
              "<path clip-path=\"url(#clip662)\" d=\"M703.469 930.844 L703.469 1734.12 L1064.18 1734.12 L1064.18 930.844 L703.469 930.844 L703.469 930.844  Z\" fill=\"#009af9\" fill-rule=\"evenodd\" fill-opacity=\"1\"/>\n",
              "<polyline clip-path=\"url(#clip662)\" style=\"stroke:#000000; stroke-linecap:round; stroke-linejoin:round; stroke-width:4; stroke-opacity:1; fill:none\" points=\"703.469,930.844 703.469,1734.12 1064.18,1734.12 1064.18,930.844 703.469,930.844 \"/>\n",
              "<path clip-path=\"url(#clip662)\" d=\"M1064.18 529.208 L1064.18 1734.12 L1424.88 1734.12 L1424.88 529.208 L1064.18 529.208 L1064.18 529.208  Z\" fill=\"#009af9\" fill-rule=\"evenodd\" fill-opacity=\"1\"/>\n",
              "<polyline clip-path=\"url(#clip662)\" style=\"stroke:#000000; stroke-linecap:round; stroke-linejoin:round; stroke-width:4; stroke-opacity:1; fill:none\" points=\"1064.18,529.208 1064.18,1734.12 1424.88,1734.12 1424.88,529.208 1064.18,529.208 \"/>\n",
              "<path clip-path=\"url(#clip662)\" d=\"M1424.88 529.208 L1424.88 1734.12 L1785.59 1734.12 L1785.59 529.208 L1424.88 529.208 L1424.88 529.208  Z\" fill=\"#009af9\" fill-rule=\"evenodd\" fill-opacity=\"1\"/>\n",
              "<polyline clip-path=\"url(#clip662)\" style=\"stroke:#000000; stroke-linecap:round; stroke-linejoin:round; stroke-width:4; stroke-opacity:1; fill:none\" points=\"1424.88,529.208 1424.88,1734.12 1785.59,1734.12 1785.59,529.208 1424.88,529.208 \"/>\n",
              "<path clip-path=\"url(#clip662)\" d=\"M1785.59 47.2441 L1785.59 1734.12 L2146.3 1734.12 L2146.3 47.2441 L1785.59 47.2441 L1785.59 47.2441  Z\" fill=\"#009af9\" fill-rule=\"evenodd\" fill-opacity=\"1\"/>\n",
              "<polyline clip-path=\"url(#clip662)\" style=\"stroke:#000000; stroke-linecap:round; stroke-linejoin:round; stroke-width:4; stroke-opacity:1; fill:none\" points=\"1785.59,47.2441 1785.59,1734.12 2146.3,1734.12 2146.3,47.2441 1785.59,47.2441 \"/>\n",
              "<path clip-path=\"url(#clip662)\" d=\"M2146.3 127.571 L2146.3 1734.12 L2507.01 1734.12 L2507.01 127.571 L2146.3 127.571 L2146.3 127.571  Z\" fill=\"#009af9\" fill-rule=\"evenodd\" fill-opacity=\"1\"/>\n",
              "<polyline clip-path=\"url(#clip662)\" style=\"stroke:#000000; stroke-linecap:round; stroke-linejoin:round; stroke-width:4; stroke-opacity:1; fill:none\" points=\"2146.3,127.571 2146.3,1734.12 2507.01,1734.12 2507.01,127.571 2146.3,127.571 \"/>\n",
              "<circle clip-path=\"url(#clip662)\" style=\"fill:#009af9; stroke:none; fill-opacity:0\" cx=\"523.115\" cy=\"207.899\" r=\"2\"/>\n",
              "<circle clip-path=\"url(#clip662)\" style=\"fill:#009af9; stroke:none; fill-opacity:0\" cx=\"883.822\" cy=\"930.844\" r=\"2\"/>\n",
              "<circle clip-path=\"url(#clip662)\" style=\"fill:#009af9; stroke:none; fill-opacity:0\" cx=\"1244.53\" cy=\"529.208\" r=\"2\"/>\n",
              "<circle clip-path=\"url(#clip662)\" style=\"fill:#009af9; stroke:none; fill-opacity:0\" cx=\"1605.24\" cy=\"529.208\" r=\"2\"/>\n",
              "<circle clip-path=\"url(#clip662)\" style=\"fill:#009af9; stroke:none; fill-opacity:0\" cx=\"2326.65\" cy=\"127.571\" r=\"2\"/>\n",
              "</svg>"
            ]
          }
        }
      ],
      "source": [
        "histogram(dice_rolls, legend=:false, bins=6)\n",
        "ylabel!(\"Count\")\n",
        "xlabel!(\"Dice Value\")"
      ],
      "id": "10"
    },
    {
      "cell_type": "markdown",
      "metadata": {},
      "source": [
        "### Instructions\n",
        "\n",
        "**Remember to**:\n",
        "\n",
        "-   Evaluate all of your code cells, in order (using a `Run All`\n",
        "    command). This will make sure all output is visible and that the\n",
        "    code cells were evaluated in the correct order.\n",
        "-   Tag each of the problems when you submit to Gradescope; a 10%\n",
        "    penalty will be deducted if this is not done.\n",
        "\n",
        "## Exercise (3 Points)\n",
        "\n",
        "The Showcase is the final round of every episode of The Price is Right,\n",
        "matching the two big winners from the episode. Each contestant is shown\n",
        "a “showcase” of prizes, which are usually some combination of a trip, a\n",
        "motor vehicle, some furniture, and maybe some other stuff. They then\n",
        "each have to make a bid on the retail price of the showcase. The rules\n",
        "are:\n",
        "\n",
        "-   an overbid is an automatic loss;\n",
        "-   the contest who gets closest to the retail price wins their\n",
        "    showcase;\n",
        "-   if a contestant gets within \\$250 of the retail price and is closer\n",
        "    than their opponent, they win both showcases.\n",
        "\n",
        "Your goal is to find a wager which maximizes your expected winnings,\n",
        "which we may as well call utility, based on your assessment of the\n",
        "probability of your showcase retail price. Make the following\n",
        "assumptions about your expected winnings if you don’t overbid:\n",
        "\n",
        "-   If you win both showcases, the value is the double of the single\n",
        "    showcase value.\n",
        "-   If you did not win both showcases but bid under the showcase value,\n",
        "    the probability of being outbid increases linearly as the distance\n",
        "    between your bid and the value increases (in other words, if you bid\n",
        "    the exact value, you win with probability 1, and if you bid \\$0, you\n",
        "    win with probability 0).\n",
        "\n",
        "We’ll assume that the distribution of all showcases offered by the show\n",
        "is given as truncated normal distribution, which means a normal\n",
        "distribution which has an upper and/or lower bound. `Distributions.jl`\n",
        "makes it easy to specify truncations on any distribution, not just\n",
        "normal distributions. For example, we’ll use the distribution shown in\n",
        "<a href=\"#fig-values\" class=\"quarto-xref\">Figure 1</a> for the showcase\n",
        "values (you can just directly use the `showcase_dist` distribution in\n",
        "your lab code)."
      ],
      "id": "b386a99b-2dd1-453c-ad1e-2a55196f54fc"
    },
    {
      "cell_type": "code",
      "execution_count": 1,
      "metadata": {},
      "outputs": [],
      "source": [
        "showcase_dist = truncated(Normal(31000, 4500), lower=5000, upper=42000)\n",
        "showcase_samples = rand(showcase_dist, 10_000)\n",
        "histogram(showcase_samples)"
      ],
      "id": "cell-fig-values"
    },
    {
      "cell_type": "markdown",
      "metadata": {},
      "source": [
        "Find your expected winnings if you bid \\$35,000. Plot the outcomes of\n",
        "your Monte Carlo experiment (iterations vs. running estimate). How did\n",
        "you decide how many samples to use?"
      ],
      "id": "ac839c96-315f-4164-bcc0-8fa1b63bca0d"
    },
    {
      "cell_type": "markdown",
      "metadata": {},
      "source": [
        "## References\n",
        "\n",
        "Put any consulted sources here, including classmates you worked with/who\n",
        "helped you."
      ],
      "id": "cfa33705-7b19-4352-911e-756ece96e9ad"
    }
  ],
  "nbformat": 4,
  "nbformat_minor": 5,
  "metadata": {
    "kernel_info": {
      "name": "julia"
    },
    "kernelspec": {
      "name": "julia",
      "display_name": "Julia",
      "language": "julia"
    },
    "language_info": {
      "name": "julia",
      "codemirror_mode": "julia",
      "version": "1.10.4"
    }
  }
}